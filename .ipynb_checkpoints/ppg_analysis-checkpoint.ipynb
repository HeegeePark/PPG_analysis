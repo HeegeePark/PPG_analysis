{
 "cells": [
  {
   "cell_type": "code",
   "execution_count": 78,
   "metadata": {},
   "outputs": [],
   "source": [
    "import heartpy as hp\n",
    "import matplotlib.pyplot as plt\n",
    "import numpy as np\n",
    "import scipy\n",
    "import csv"
   ]
  },
  {
   "cell_type": "code",
   "execution_count": 52,
   "metadata": {},
   "outputs": [],
   "source": [
    "# 피험자를 선택하여 데이터 불러오는 함수\n",
    "def select_subject(_subject):\n",
    "    path = 'C:\\Users\\user\\Downloads\\iDAQ-400\\Software\\iDAQ400\\Data\\ASCII_data\\\\' + subject\n",
    "#     print(path)\n",
    "    _listOfData= [path+'\\\\' +_subject + '_ref.txt',\n",
    "                  path+'\\\\' +_subject + '_calm.txt',\n",
    "                  path+'\\\\' +_subject + '_horror.txt',\n",
    "                  path+'\\\\' +_subject + '_happy.txt',\n",
    "                  path+'\\\\' +_subject + '_sad.txt']\n",
    "    \n",
    "    return _listOfData"
   ]
  },
  {
   "cell_type": "code",
   "execution_count": 86,
   "metadata": {},
   "outputs": [],
   "source": [
    "# 전처리 함수(bandpass filter)\n",
    "def preprocessing(hrdata):\n",
    "    filtered = hp.filter_signal(hrdata, cutoff = [0.75, 3.5], sample_rate = 500.0, order = 2, filtertype='bandpass', return_top = True)\n",
    "    return filtered\n",
    "# filt = preprocessing_data(hrList[0])\n",
    "# print(filt)"
   ]
  },
  {
   "cell_type": "code",
   "execution_count": 62,
   "metadata": {},
   "outputs": [],
   "source": [
    "# peak 찾는 함수(amplitude)\n",
    "def detect_peak(hrdata):\n",
    "    point=scipy.signal.find_peaks(hrdata,distance=200)\n",
    "#     print(point[0])\n",
    "    plt.scatter(point[0],hrdata[point[0]])\n",
    "    plt.plot(hrdata)\n",
    "    peak=np.zeros(len(point[0]))\n",
    "    for i in range(len(point[0])):\n",
    "        peak[i]=(hrdata[point[0][i]])\n",
    "#     print(peak)\n",
    "    return(peak,point[0])\n",
    "# detect_peak(hrdata)"
   ]
  },
  {
   "cell_type": "code",
   "execution_count": 68,
   "metadata": {},
   "outputs": [],
   "source": [
    "#주기찾는 함수 \n",
    "def find_period(points):\n",
    "    period=[]\n",
    "    for i in range(len(points)-1):\n",
    "        period.append(points[i+1]-points[i])\n",
    "#     print('period:',period)\n",
    "    return(period)\n",
    "# period=find_period(peak)"
   ]
  },
  {
   "cell_type": "code",
   "execution_count": 55,
   "metadata": {},
   "outputs": [],
   "source": [
    "# 평균 ppi 구하는 함수\n",
    "def calculate_PPI(periods):\n",
    "    PPI=0.0;\n",
    "    for i in range(len(periods)):\n",
    "        PPI +=periods[i]\n",
    "    PPI /= len(periods)\n",
    "    return PPI"
   ]
  },
  {
   "cell_type": "code",
   "execution_count": 56,
   "metadata": {},
   "outputs": [],
   "source": [
    "# 평균 amplitude 구하는 함수\n",
    "def calculate_Amplitude(hrpeaks):\n",
    "    amplitude=0.0;\n",
    "    for i in range(len(hrpeaks)):\n",
    "        amplitude +=hrpeaks[i]\n",
    "    amplitude /= len(hrpeaks)\n",
    "    return amplitude"
   ]
  },
  {
   "cell_type": "code",
   "execution_count": 57,
   "metadata": {},
   "outputs": [],
   "source": [
    "# 레퍼런스 대비 변화율 계산하는 함수\n",
    "def calculate_ChangeRate(ref,x):\n",
    "    changeRate = (x-ref)/ref\n",
    "    return changeRate"
   ]
  },
  {
   "cell_type": "code",
   "execution_count": 104,
   "metadata": {},
   "outputs": [],
   "source": [
    "# 변화율 csv로 출력하는 함수\n",
    "# output.csv에 변화율 이어쓰기\n",
    "def write_csv(_subject, list_amp,list_ppi):\n",
    "    f = open('ppg_output.csv', 'a')\n",
    "    wr = csv.writer(f)\n",
    "    for i in range(len(list_amp)):\n",
    "        wr.writerow([_subject + str(i+1), str(list_amp[i]), str(list_ppi[i])])\n",
    "    f.close()"
   ]
  },
  {
   "cell_type": "code",
   "execution_count": 106,
   "metadata": {},
   "outputs": [
    {
     "name": "stdout",
     "output_type": "stream",
     "text": [
      "('period:', [274, 241, 205, 404, 453, 466, 435, 442, 468, 450, 403, 410, 410, 385, 366, 385, 404, 427, 386, 212, 213, 469, 238, 205, 405, 237, 213, 246, 209, 400, 433, 437, 222, 217, 386, 409, 246, 209, 425, 375, 419, 435, 382, 401, 430, 383, 387, 417, 402, 370, 434, 450, 425, 371, 403, 436, 412, 392, 439, 245, 213, 400, 412, 443, 420, 372, 412, 411, 369, 361, 399, 429, 372, 376, 398, 414, 371, 384, 386, 396, 363, 388, 416, 404, 363, 389, 440, 392, 367, 399, 436, 391, 401, 223, 200, 396, 378, 478, 476, 434, 376, 420, 444, 405, 377, 387, 394, 360, 371, 387, 402, 398, 351, 387, 413, 370, 343, 371, 371, 354, 338, 366, 409, 410, 359, 396, 235, 201, 420, 369, 402, 412, 400, 361, 373, 399, 397, 357, 355, 382, 387, 350, 376, 409, 415, 367, 397, 227, 225, 426, 369, 411, 428, 424, 371, 403, 424, 418, 367, 404, 433, 401, 384, 423, 438, 393, 400, 432, 425, 383, 411, 438, 388, 365, 408, 423, 400, 367, 399, 420, 387, 347, 357, 386, 347, 343, 394, 401, 362, 380, 412, 425, 390, 402, 442, 427, 387, 414, 438, 387, 354, 384, 430, 428, 388, 397, 444, 420, 373, 383, 416, 376, 372, 403, 413, 369, 348, 382, 378, 353, 338, 364, 366, 366, 333, 343, 333, 332, 360, 341, 330, 392, 427, 383, 404, 440])\n",
      "('period:', [500, 614, 394, 390, 344, 407, 206, 228, 391, 365, 399, 211, 229, 226, 213, 374, 398, 439, 400, 367, 418, 212, 225, 222, 200, 393, 215, 219, 216, 235, 405, 375, 210, 205, 415, 396, 393, 416, 225, 201, 382, 400, 219, 205, 420, 371, 403, 401, 404, 356, 385, 219, 205, 426, 360, 369, 417, 415, 363, 403, 439, 380, 392, 216, 224, 208, 226, 375, 409, 214, 221, 383, 385, 412, 397, 362, 214, 206, 270, 203, 400, 375, 215, 203, 421, 369, 422, 215, 230, 239, 204, 380, 396, 406, 380, 344, 384, 420, 384, 395, 421, 423, 377, 389, 421, 387, 347, 382, 397, 369, 369, 393, 414, 360, 396, 408, 388, 354, 396, 224, 201, 393, 398, 422, 417, 368, 401, 438, 407, 356, 396, 396, 364, 354, 401, 223, 207, 377, 370, 397, 409, 372, 377, 404, 396, 366, 374, 383, 371, 344, 380, 395, 378, 346, 376, 396, 390, 350, 372, 395, 396, 370, 400, 425, 201, 203, 386, 391, 401, 365, 376, 387, 376, 360, 395, 417, 381, 364, 390, 411, 360, 363, 379, 373, 343, 368, 391, 371, 349, 384, 399, 369, 352, 374, 406, 373, 367, 426, 414, 385, 353, 380, 390, 350, 334, 366, 391, 355, 362, 378, 415, 366, 383, 394, 391, 370, 407, 391, 355, 341, 390, 410, 367, 351, 370, 384, 361, 341, 369, 373, 351, 328, 375, 400, 367, 361, 408, 407, 364, 372, 397, 395, 364, 378, 379, 363, 336, 351, 372, 373, 343, 344, 349, 351, 318, 339, 366, 361, 338, 332, 383, 396, 353, 371, 205, 216, 377, 359, 375, 392, 364, 352, 365, 284, 219, 242, 387, 228, 202, 349, 403])\n",
      "('period:', [220, 342, 390, 357, 324, 201, 366, 200, 313, 337, 344, 392, 346, 329, 391, 398, 353, 357, 365, 387, 341, 358, 403, 396, 358, 366, 378, 201, 201, 357, 387, 207, 211, 335, 206, 232, 386, 201, 241, 398, 387, 207, 215, 257, 203, 207, 209, 233, 202, 212, 236, 211, 201, 215, 207, 248, 201, 214, 210, 392, 217, 200, 233, 211, 389, 418, 233, 215, 215, 210, 392, 207, 421, 247, 394, 410, 222, 220, 393, 397, 207, 203, 379, 362, 414, 431, 363, 200, 205, 224, 217, 207, 235, 375, 413, 220, 200, 366, 393, 224, 211, 372, 411, 445, 204, 223, 374, 425, 203, 202, 382, 215, 210, 201, 255, 389, 227, 219, 208, 255, 205, 200, 384, 208, 233, 200, 240, 382, 200, 212, 207, 223, 362, 386, 206, 228, 414, 208, 201, 208, 233, 245, 204, 377, 204, 212, 207, 213, 381, 348, 390, 411, 372, 380, 406, 257, 268, 235, 412, 220, 240, 401, 248, 204, 257, 226, 243, 206, 206, 209, 210, 250, 248, 221, 424, 203, 218, 227, 202, 436, 395, 210, 207, 232, 227, 214, 214, 386, 440, 226, 227, 406, 405, 438, 413, 398, 217, 207, 417, 363, 401, 416, 373, 381, 419, 224, 205, 383, 409, 225, 204, 402, 364, 376, 380, 358, 371, 200, 202, 417, 361, 377, 402, 370, 341, 379, 395, 359, 375, 419, 425, 382, 372, 396, 406, 375, 406, 420, 401, 372, 395, 392, 365, 396, 221, 202, 402, 370, 406, 430, 388, 358, 409, 420, 398, 424, 228, 216, 419, 216, 200, 223, 228, 209, 233, 205, 235, 451, 429, 389, 219, 221, 448, 399, 218, 205, 238, 216, 400, 416, 433, 377, 397, 425, 408, 400, 218, 226, 417, 401, 229, 231, 245, 213, 406, 230, 206, 245, 221, 416, 441, 252, 212, 403, 411, 248, 204, 377, 379, 423, 387, 373, 427, 405, 371, 403, 420, 386, 398, 406, 352, 367, 394, 366, 361, 402, 226, 214, 388, 240, 216, 241, 232, 442, 250, 207, 481, 458, 447, 275, 201, 460, 415, 208, 241, 464, 421, 401, 225, 204, 423, 360, 391, 411, 368, 388, 412, 385, 362, 386, 410, 375, 400, 418, 375, 348, 396, 394, 356, 399, 418, 375, 413, 236, 218, 402, 379, 441, 427, 358, 365])\n",
      "('period:', [387, 347, 418, 245, 206, 411, 359, 399, 419, 433, 393, 412, 445, 427, 379, 223, 222, 479, 422, 414, 451, 426, 372, 423, 440, 402, 367, 437, 452, 392, 439, 477, 403, 416, 447, 417, 365, 405, 438, 398, 395, 434, 394, 391, 426, 399, 393, 438, 433, 390, 420, 416, 374, 414, 454, 456, 214, 226, 396, 428, 436, 395, 422, 447, 429, 381, 410, 441, 404, 371, 427, 442, 383, 415, 424, 401, 399, 441, 424, 385, 410, 436, 385, 387, 403, 373, 351, 384, 397, 360, 394, 435, 420, 370, 405, 414, 364, 369, 409, 426, 379, 403, 420, 382, 384, 424, 436, 375, 406, 427, 393, 395, 414, 418, 377, 416, 441, 384, 403, 426, 404, 398, 400, 414, 365, 384, 397, 394, 350, 376, 387, 362, 384, 386, 367, 369, 440, 444, 391, 414, 233, 204, 419, 379, 402, 406, 360, 405, 433, 395, 390, 401, 386, 360, 385, 400, 360, 378, 392, 387, 346, 382, 409, 371, 400, 416, 387, 380, 409, 405, 357, 393, 415, 371, 379, 395, 409, 347, 385, 425, 403, 372, 421, 429, 233, 293, 302, 365, 379, 405, 358, 376, 404, 403, 362, 397, 409, 367, 377, 406, 400, 395, 401, 364, 395, 389, 400, 417, 437])\n",
      "('period:', [234, 330, 373, 403, 361, 330, 389, 418, 366, 403, 221, 228, 407, 367, 414, 441, 401, 348, 406, 462, 381, 404, 452, 441, 380, 416, 457, 382, 362, 437, 470, 399, 431, 486, 420, 385, 445, 455, 400, 407, 446, 375, 390, 445, 438, 376, 403, 445, 374, 412, 465, 450, 376, 434, 443, 372, 382, 395, 433, 364, 409, 452, 391, 377, 452, 464, 398, 436, 464, 430, 424, 385, 380, 414, 437, 384, 395, 416, 366, 410, 435, 383, 380, 445, 445, 393, 430, 464, 394, 439, 462, 399, 390, 445, 440, 382, 441, 431, 380, 400, 409, 390, 359, 410, 431, 388, 396, 410, 390, 367, 388, 402, 367, 390, 410, 399, 358, 390, 421, 400, 362, 417, 451, 396, 379, 404, 420, 374, 406, 422, 384, 360, 388, 411, 369, 372, 394, 415, 360, 391, 415, 380, 349, 383, 404, 363, 344, 380, 420, 419, 368, 396, 427, 386, 351, 384, 428, 388, 356, 413, 426, 383, 393, 436, 435, 383, 394, 385, 362, 352, 379, 388, 373, 349, 385, 417, 375, 371, 432, 420, 363, 396, 414, 380, 362, 401, 420, 431, 413, 376, 414, 438, 388, 234, 204, 468, 425, 417, 444, 402, 415, 426, 379, 396, 434, 412, 411, 424, 402, 392, 371, 351, 394, 377, 390, 405, 425, 384, 428, 462, 419, 423, 475, 454, 407, 454, 466, 424, 481, 442, 400, 410, 469, 441, 386, 435, 454, 396, 447, 464, 400, 393, 436, 422, 370, 399, 412, 373, 389, 417, 404, 356, 403, 427, 387, 424, 426, 427, 377, 414, 441, 392, 418, 430, 430, 374, 398, 416, 388, 379, 407, 414, 408, 395, 359, 394, 412, 364, 355, 398, 412, 371, 353, 416, 435, 382, 375, 419, 549, 281, 393, 422, 417, 375, 396, 424, 411, 372, 394, 408, 411, 362, 396, 424, 409, 369, 515, 467, 315, 369, 506, 332, 379, 377, 404, 406, 373, 474, 402, 364, 392, 408, 365, 359, 413, 475, 389, 406, 474, 416, 384, 404, 425, 391, 368, 433, 439, 386, 467, 410, 375, 396, 434, 420, 368, 393, 406, 405, 360, 401, 435, 405, 377, 506, 312, 364, 385, 420, 445, 425, 393, 434, 423, 396, 435, 400])\n",
      "[0번째]\n",
      "\n",
      "amplitude: -45.16378138675536\n",
      "\n",
      "ppi : -6.94399353600262\n",
      "\n",
      "[1번째]\n",
      "\n",
      "amplitude: -50.79200761281998\n",
      "\n",
      "ppi : -17.15213587962875\n",
      "\n",
      "[2번째]\n",
      "\n",
      "amplitude: 10.403558782146998\n",
      "\n",
      "ppi : 3.5187526079084424\n",
      "\n",
      "[3번째]\n",
      "\n",
      "amplitude: 22.76186751376418\n",
      "\n",
      "ppi : 6.082042194380117\n",
      "\n"
     ]
    },
    {
     "data": {
      "image/png": "[encoded data removed]",
      "text/plain": [
       "<Figure size 432x288 with 1 Axes>"
      ]
     },
     "metadata": {
      "needs_background": "light"
     },
     "output_type": "display_data"
    }
   ],
   "source": [
    "# 데이터 불러오기\n",
    "# subject에 분석할 피험자 이름 설정하기!\n",
    "subject='kse'\n",
    "listOfData = select_subject(subject)\n",
    "\n",
    "# 레퍼런스 및 영상별 평균 amplitude, ppi 계산\n",
    "# 0=ref, 1=평온, 2=공포, 3=기쁨, 4=슬픔\n",
    "hrList=[0 for i in range(5)]  # ppg raw data\n",
    "filtered_hrList=[[None] for row in range(5)]\n",
    "hrpeaks=[[None] for row in range(5)]  # peak amplitudes\n",
    "hrpoints=[[None] for row in range(5)]  # peak index\n",
    "hrperiods=[[None] for row in range(5)]  # PPIs\n",
    "amplitudes=[0 for i in range(5)]  # 영상별 평균 amp리스트\n",
    "PPIs=[0 for i in range(5)]  # 영상별 평균 ppi리스트\n",
    "changeRates_amp=[0 for i in range(4)]  # 영상별 amp변화율\n",
    "changeRates_ppi=[0 for i in range(4)]  # 영상별 ppi변화율\n",
    "# print(len(listOfData))\n",
    "for i in range(5):\n",
    "    hrList[i] = hp.get_data(listOfData[i])\n",
    "    filtered_hrList[i] = preprocessing(hrList[i])  # bandpass\n",
    "    hrpeaks[i],hrpoints[i] = detect_peak(hrList[i])\n",
    "    hrperiods[i]=find_period(hrpoints[i])\n",
    "    amplitudes[i]=calculate_Amplitude(hrpeaks[i])\n",
    "    PPIs[i]=calculate_PPI(hrperiods[i])\n",
    "    \n",
    "\n",
    "# 영상별 레퍼런스 대비 변화율 계산\n",
    "for i in range(5):\n",
    "    # ref\n",
    "    if i==0:\n",
    "        ref_amplitude = amplitudes[i]\n",
    "        ref_PPI = PPIs[i]\n",
    "    else:\n",
    "        changeRates_amp[i-1]=calculate_ChangeRate(ref_amplitude, amplitudes[i])\n",
    "        changeRates_ppi[i-1]=calculate_ChangeRate(ref_PPI, PPIs[i])\n",
    "\n",
    "# 변화율 출력\n",
    "for i in range(len(changeRates_amp)):\n",
    "    print('[' + str(i) + '번째]\\n' )\n",
    "    print(\"amplitude: \"+ str(changeRates_amp[i]) + '\\n')\n",
    "    print(\"ppi : \"+ str(changeRates_ppi[i]) + '\\n')\n",
    "    \n",
    "# 변화율 csv 출력\n",
    "write_csv(subject,changeRates_amp,changeRates_ppi)\n"
   ]
  },
  {
   "cell_type": "code",
   "execution_count": null,
   "metadata": {},
   "outputs": [],
   "source": []
  }
 ],
 "metadata": {
  "kernelspec": {
   "display_name": "Python 2",
   "language": "python",
   "name": "python2"
  },
  "language_info": {
   "codemirror_mode": {
    "name": "ipython",
    "version": 2
   },
   "file_extension": ".py",
   "mimetype": "text/x-python",
   "name": "python",
   "nbconvert_exporter": "python",
   "pygments_lexer": "ipython2",
   "version": "2.7.16"
  }
 },
 "nbformat": 4,
 "nbformat_minor": 2
}
