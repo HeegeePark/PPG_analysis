{
 "cells": [
  {
   "cell_type": "code",
   "execution_count": 8,
   "metadata": {},
   "outputs": [
    {
     "name": "stdout",
     "output_type": "stream",
     "text": [
      "한글\n"
     ]
    }
   ],
   "source": [
    "#-*- coding: utf-8 -*-\n",
    "import os\n",
    "import heartpy as hp\n",
    "import matplotlib.pyplot as plt\n",
    "import numpy as np\n",
    "import scipy\n",
    "import csv\n",
    "print('한글')"
   ]
  },
  {
   "cell_type": "code",
   "execution_count": 11,
   "metadata": {},
   "outputs": [],
   "source": [
    "# 피험자들 변화율 csv 불러오는 함수\n",
    "# key = 피험자, value = amp, ppi인 2개의 dictionary에 저장\n",
    "def read_csv():\n",
    "    f = open('C:\\\\Users\\\\user\\\\Downloads\\\\iDAQ-400\\\\Software\\\\iDAQ400\\\\Data\\\\analysis\\\\ppg_output.csv', 'r')\n",
    "    list=[]\n",
    "    list_amp=[]\n",
    "    list_ppi=[]\n",
    "    dict_amp={}\n",
    "    dict_ppi={}\n",
    "    rdr = csv.reader(f)\n",
    "    for line in rdr:\n",
    "        list.append(line)\n",
    "        \n",
    "    for i in range(len(list)):\n",
    "        if (i%4==0):\n",
    "            key = list[i][0].split(' ')[0]  # 피험자 이름\n",
    "                    \n",
    "                \n",
    "    f.close()\n",
    "    return list\n"
   ]
  },
  {
   "cell_type": "code",
   "execution_count": 17,
   "metadata": {},
   "outputs": [],
   "source": [
    "# 피험자 설문조사 가중치 불러와서 저장하기\n",
    "def read_weights():\n",
    "    f = open('C:\\\\Users\\\\user\\\\Downloads\\\\iDAQ-400\\\\Software\\\\iDAQ400\\\\Data\\\\analysis\\\\survey.csv', 'r')\n",
    "    weightlist=[]\n",
    "    rdr = csv.reader(f)\n",
    "    for line in rdr:\n",
    "        weightlist.append(line)\n",
    "    print weightlist\n",
    "    f.close()\n",
    "    return weightlist"
   ]
  },
  {
   "cell_type": "code",
   "execution_count": null,
   "metadata": {},
   "outputs": [],
   "source": [
    "# 영상별 점수별 평균 구하기\n",
    "def meanOfchangeRate(_ppglist, _weightlist):\n",
    "    for row in _weightlist:\n",
    "    # 가중치 리스트에서 피험자이름 저장\n",
    "    "
   ]
  },
  {
   "cell_type": "code",
   "execution_count": 18,
   "metadata": {},
   "outputs": [
    {
     "name": "stdout",
     "output_type": "stream",
     "text": [
      "[['knh', '50', '60', '60', '90'], ['ksw', '70', '90', '40', '60'], ['kse', '80', '80', '50', '30'], [], []]\n"
     ]
    }
   ],
   "source": [
    "# 피험자들 변화율 csv 불러오기\n",
    "ppgList=read_csv()\n",
    "# 피험자 명단 가중치 불러오기\n",
    "surveyList=read_weights()\n",
    "# 점수별 피험자 amp, ppi 평균 구하기\n",
    "classifiedList_amp=[[for col in range[5]]for row in range[4]]\n",
    "classifiedList_ppi=[[for col in range[5]]for row in range[4]]\n",
    "classifiedList_amp=\n",
    "classifiedList_ppi=\n",
    "# 평균들에 가중치 부여해서 영상별 amp,ppi 변화율 구하기(지표값 구하기)\n",
    "# 구한 지표값 csv로 출력하기\n",
    "# 별도) 지표값 구하기 전 모든 피험자들 변화율 2차원축에 scatter plot 해보기"
   ]
  },
  {
   "cell_type": "code",
   "execution_count": null,
   "metadata": {},
   "outputs": [],
   "source": []
  }
 ],
 "metadata": {
  "kernelspec": {
   "display_name": "Python 2",
   "language": "python",
   "name": "python2"
  },
  "language_info": {
   "codemirror_mode": {
    "name": "ipython",
    "version": 2
   },
   "file_extension": ".py",
   "mimetype": "text/x-python",
   "name": "python",
   "nbconvert_exporter": "python",
   "pygments_lexer": "ipython2",
   "version": "2.7.16"
  }
 },
 "nbformat": 4,
 "nbformat_minor": 2
}
