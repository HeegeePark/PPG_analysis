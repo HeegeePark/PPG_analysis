{
 "cells": [
  {
   "cell_type": "code",
   "execution_count": 48,
   "metadata": {},
   "outputs": [],
   "source": [
    "#-*- encoding: utf8 -*-\n",
    "import os\n",
    "import heartpy as hp\n",
    "import matplotlib.pyplot as plt\n",
    "import numpy as np\n",
    "import scipy\n",
    "import csv"
   ]
  },
  {
   "cell_type": "code",
   "execution_count": 49,
   "metadata": {},
   "outputs": [
    {
     "ename": "SyntaxError",
     "evalue": "(unicode error) 'unicodeescape' codec can't decode bytes in position 2-3: truncated \\UXXXXXXXX escape (<ipython-input-49-1a3361d07088>, line 3)",
     "output_type": "error",
     "traceback": [
      "\u001b[1;36m  File \u001b[1;32m\"<ipython-input-49-1a3361d07088>\"\u001b[1;36m, line \u001b[1;32m3\u001b[0m\n\u001b[1;33m    path = u'C:\\Users\\user\\Downloads\\iDAQ-400\\Software\\iDAQ400\\Data\\ASCII_data\\\\' + subject\u001b[0m\n\u001b[1;31mSyntaxError\u001b[0m\u001b[1;31m:\u001b[0m (unicode error) 'unicodeescape' codec can't decode bytes in position 2-3: truncated \\UXXXXXXXX escape\n"
     ]
    }
   ],
   "source": [
    "# 피험자를 선택하여 데이터 불러오는 함수\n",
    "def select_subject(_subject):\n",
    "    path = 'C:\\Users\\user\\Downloads\\iDAQ-400\\Software\\iDAQ400\\Data\\ASCII_data\\\\' + subject\n",
    "#     print(path)\n",
    "    _listOfData= [path+'\\\\' +_subject + '_ref.txt',\n",
    "                  path+'\\\\' +_subject + '_calm.txt',\n",
    "                  path+'\\\\' +_subject + '_horror.txt',\n",
    "                  path+'\\\\' +_subject + '_happy.txt',\n",
    "                  path+'\\\\' +_subject + '_sad.txt']\n",
    "    \n",
    "    return _listOfData"
   ]
  },
  {
   "cell_type": "code",
   "execution_count": 37,
   "metadata": {},
   "outputs": [],
   "source": [
    "# 전처리 함수(lowpass&highpass filter)\n",
    "def preprocessing(hrdata):\n",
    "    filtered = hp.filter_signal(hrdata, cutoff = 3.0, sample_rate = 500.0, order = 3, filtertype='lowpass')\n",
    "    filtered = hp.filter_signal(hrdata, cutoff = 0.70, sample_rate = 500.0, order = 3, filtertype='highpass')\n",
    "    return filtered\n",
    "# filt = preprocessing(hrList[0])\n",
    "# print(filt)"
   ]
  },
  {
   "cell_type": "code",
   "execution_count": 38,
   "metadata": {},
   "outputs": [],
   "source": [
    "# peak 찾는 함수(amplitude)\n",
    "def detect_peak(hrdata):\n",
    "    point=scipy.signal.find_peaks(hrdata,distance=200)\n",
    "#     print(point[0])\n",
    "    plt.scatter(point[0],hrdata[point[0]])\n",
    "    plt.plot(hrdata)\n",
    "    peak=np.zeros(len(point[0]))\n",
    "    for i in range(len(point[0])):\n",
    "        peak[i]=(hrdata[point[0][i]])\n",
    "#     print(peak)\n",
    "    return(peak,point[0])\n",
    "# detect_peak(hrdata)"
   ]
  },
  {
   "cell_type": "code",
   "execution_count": 39,
   "metadata": {},
   "outputs": [],
   "source": [
    "#주기찾는 함수 \n",
    "def find_period(points, samplingrate):\n",
    "    # index -> time\n",
    "    for i in range(len(points)):\n",
    "        points[i]=float(points[i])/samplingrate\n",
    "    period=[]\n",
    "    for i in range(len(points)-1):\n",
    "        period.append(points[i+1]-points[i])\n",
    "#     print('period:',period)\n",
    "    return(period)\n",
    "# period=find_period(peak)"
   ]
  },
  {
   "cell_type": "code",
   "execution_count": 40,
   "metadata": {},
   "outputs": [],
   "source": [
    "# 평균 ppi 구하는 함수\n",
    "def calculate_PPI(periods):\n",
    "    PPI=0.0;\n",
    "    for i in range(len(periods)):\n",
    "        PPI +=periods[i]\n",
    "    PPI /= len(periods)\n",
    "    return PPI"
   ]
  },
  {
   "cell_type": "code",
   "execution_count": 41,
   "metadata": {},
   "outputs": [],
   "source": [
    "# 평균 amplitude 구하는 함수\n",
    "def calculate_Amplitude(hrpeaks):\n",
    "    amplitude=0.0;\n",
    "    for i in range(len(hrpeaks)):\n",
    "        amplitude +=hrpeaks[i]\n",
    "    amplitude /= len(hrpeaks)\n",
    "    return amplitude"
   ]
  },
  {
   "cell_type": "code",
   "execution_count": 42,
   "metadata": {},
   "outputs": [],
   "source": [
    "# 레퍼런스 대비 변화율 계산하는 함수\n",
    "def calculate_ChangeRate(ref,x):\n",
    "    changeRate = (x-ref)/ref\n",
    "    return changeRate"
   ]
  },
  {
   "cell_type": "code",
   "execution_count": 43,
   "metadata": {},
   "outputs": [],
   "source": [
    "# 변화율 csv로 출력하는 함수\n",
    "# output.csv에 변화율 이어쓰기\n",
    "def write_csv(_subject, list_amp,list_ppi):\n",
    "    f = open('C:\\\\Users\\\\user\\\\Downloads\\\\iDAQ-400\\\\Software\\\\iDAQ400\\\\Data\\\\analysis\\\\ppg_output.csv', 'a')\n",
    "    wr = csv.writer(f)\n",
    "    for i in range(len(list_amp)):\n",
    "        wr.writerow([_subject + str(i+1), str(list_amp[i]), str(list_ppi[i])])\n",
    "    f.close()"
   ]
  },
  {
   "cell_type": "code",
   "execution_count": 44,
   "metadata": {},
   "outputs": [
    {
     "name": "stdout",
     "output_type": "stream",
     "text": [
      "[0번째]\n",
      "\n",
      "amplitude: -0.6044522439937439\n",
      "\n",
      "ppi : -0.0507864421798848\n",
      "\n",
      "[1번째]\n",
      "\n",
      "amplitude: -0.24278501718301435\n",
      "\n",
      "ppi : 0.005033074489502462\n",
      "\n",
      "[2번째]\n",
      "\n",
      "amplitude: -0.5392525420612665\n",
      "\n",
      "ppi : -0.09035755776429594\n",
      "\n",
      "[3번째]\n",
      "\n",
      "amplitude: -0.3850260704542899\n",
      "\n",
      "ppi : 0.005317872850859553\n",
      "\n"
     ]
    },
    {
     "data": {
      "image/png": "[encoded data removed]",
      "text/plain": [
       "<Figure size 432x288 with 1 Axes>"
      ]
     },
     "metadata": {
      "needs_background": "light"
     },
     "output_type": "display_data"
    }
   ],
   "source": [
    "# 데이터 불러오기\n",
    "# subject에 분석할 피험자 이름 설정하기!\n",
    "subject='ㅏㅜ'\n",
    "samplingRate = 500 # 500hz\n",
    "listOfData = select_subject(subject)\n",
    "\n",
    "hrList=[0 for i in range(5)]  # ppg raw data\n",
    "filtered_hrList=[[None] for row in range(5)]\n",
    "hrpeaks=[[None] for row in range(5)]  # peak amplitudes\n",
    "hrpoints=[[None] for row in range(5)]  # peak index\n",
    "hrperiods=[[None] for row in range(5)]  # PPIs\n",
    "amplitudes=[0 for i in range(5)]  # 영상별 평균 amp리스트\n",
    "PPIs=[0 for i in range(5)]  # 영상별 평균 ppi리스트\n",
    "changeRates_amp=[0 for i in range(4)]  # 영상별 amp변화율\n",
    "changeRates_ppi=[0 for i in range(4)]  # 영상별 ppi변화율\n",
    "\n",
    "# 레퍼런스 및 영상별 평균 amplitude, ppi 계산\n",
    "# 0=ref, 1=평온, 2=공포, 3=기쁨, 4=슬픔\n",
    "for i in range(5):\n",
    "    hrList[i] = hp.get_data(listOfData[i])\n",
    "    filtered_hrList[i] = preprocessing(hrList[i])  # low&highpass\n",
    "    hrpeaks[i],hrpoints[i] = detect_peak(filtered_hrList[i])\n",
    "    hrperiods[i]=find_period(hrpoints[i],samplingRate)\n",
    "    amplitudes[i]=calculate_Amplitude(hrpeaks[i])\n",
    "    PPIs[i]=calculate_PPI(hrperiods[i])\n",
    "    \n",
    "# 영상별 레퍼런스 대비 변화율 계산\n",
    "for i in range(5):\n",
    "    # ref\n",
    "    if i==0:\n",
    "        ref_amplitude = amplitudes[i]\n",
    "        ref_PPI = PPIs[i]\n",
    "    else:\n",
    "        changeRates_amp[i-1]=calculate_ChangeRate(ref_amplitude, amplitudes[i])\n",
    "        changeRates_ppi[i-1]=calculate_ChangeRate(ref_PPI, PPIs[i])\n",
    "\n",
    "# 변화율 출력\n",
    "for i in range(len(changeRates_amp)):\n",
    "    print('[' + str(i) + '번째]\\n' )\n",
    "    print(\"amplitude: \"+ str(changeRates_amp[i]) + '\\n')\n",
    "    print(\"ppi : \"+ str(changeRates_ppi[i]) + '\\n')\n",
    "    \n",
    "# 변화율 csv 출력\n",
    "write_csv(subject,changeRates_amp,changeRates_ppi)\n"
   ]
  },
  {
   "cell_type": "code",
   "execution_count": null,
   "metadata": {},
   "outputs": [],
   "source": []
  }
 ],
 "metadata": {
  "kernelspec": {
   "display_name": "Python 2",
   "language": "python",
   "name": "python2"
  },
  "language_info": {
   "codemirror_mode": {
    "name": "ipython",
    "version": 2
   },
   "file_extension": ".py",
   "mimetype": "text/x-python",
   "name": "python",
   "nbconvert_exporter": "python",
   "pygments_lexer": "ipython2",
   "version": "2.7.16"
  }
 },
 "nbformat": 4,
 "nbformat_minor": 2
}
