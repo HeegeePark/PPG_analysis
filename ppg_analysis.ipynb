{
 "cells": [
  {
   "cell_type": "code",
   "execution_count": 5,
   "metadata": {},
   "outputs": [],
   "source": [
    "import heartpy as hp\n",
    "import matplotlib.pyplot as plt\n",
    "import scipy\n",
    "import csv"
   ]
  },
  {
   "cell_type": "code",
   "execution_count": 6,
   "metadata": {},
   "outputs": [],
   "source": [
    "# 피험자를 선택하여 데이터 불러오는 함수\n",
    "def select_subject(_subject):\n",
    "    path = 'C:\\Users\\user\\Downloads\\iDAQ-400\\Software\\iDAQ400\\Data\\ASCII_data\\\\' + subject\n",
    "#     print(path)\n",
    "    _listOfData= [path+'\\\\' +_subject + '_ref.txt',\n",
    "                  path+'\\\\' +_subject + '_calm.txt',\n",
    "                  path+'\\\\' +_subject + '_horror.txt',\n",
    "                  path+'\\\\' +_subject + '_happy.txt',\n",
    "                  path+'\\\\' +_subject + '_sad.txt']\n",
    "    \n",
    "    return _listOfData"
   ]
  },
  {
   "cell_type": "code",
   "execution_count": 7,
   "metadata": {},
   "outputs": [],
   "source": [
    "#peak찾는 함수\n",
    "#point=scipy.signal.find_peaks(hrdata,prominance=0.3)\n",
    "import scipy\n",
    "def detect_peak(hrdata):\n",
    "    point=scipy.signal.find_peaks(hrdata,distance=200)\n",
    "#     print(point[0])\n",
    "    plt.scatter(point[0],hrdata[point[0]])\n",
    "    plt.plot(hrdata)\n",
    "    return(point[0])\n",
    "# peak=detect_peak(hrdata)\n",
    "# print(peak)\n"
   ]
  },
  {
   "cell_type": "code",
   "execution_count": 10,
   "metadata": {},
   "outputs": [],
   "source": [
    "#주기찾는 함수 \n",
    "def find_period(peaks):\n",
    "    period=[]\n",
    "    for i in range(len(point[0])-1):\n",
    "        period.append(point[0][i+1]-point[0][i])\n",
    "#     print('period:',period)\n",
    "    return(period)\n",
    "# period=find_period(peak)\n",
    "# print(period)"
   ]
  },
  {
   "cell_type": "code",
   "execution_count": 11,
   "metadata": {},
   "outputs": [],
   "source": [
    "# 평균 ppi 구하는 함수\n",
    "def calculate_PPI(peaks):\n",
    "    PPI=0.0;\n",
    "    for i in range(len(peaks)):\n",
    "        PPI +=peaks[i]\n",
    "    PPI /= len(peaks)\n",
    "    return PPI"
   ]
  },
  {
   "cell_type": "code",
   "execution_count": 12,
   "metadata": {},
   "outputs": [],
   "source": [
    "# 평균 amplitude 구하는 함수\n",
    "def calculate_Amplitude(hrdata, peaks):\n",
    "    amplitude=0.0;\n",
    "    for i in range(len(peaks)):\n",
    "        amplitude +=hrdata[peaks[i]]\n",
    "    amplitude /= len(peaks)\n",
    "    return amplitude"
   ]
  },
  {
   "cell_type": "code",
   "execution_count": 13,
   "metadata": {},
   "outputs": [],
   "source": [
    "# 레퍼런스 대비 변화율 계산하는 함수\n",
    "def calculate_ChangeRate(ref,x):\n",
    "    changeRate = ((x-ref)/ref)*100\n",
    "    return changeRate"
   ]
  },
  {
   "cell_type": "code",
   "execution_count": 14,
   "metadata": {},
   "outputs": [],
   "source": [
    "# 변화율 csv로 출력하는 함수\n",
    "def write_csv(_subject, list_amp,list_ppi):\n",
    "    f = open(_subject + '_output.csv', 'w', encoding='utf-8')\n",
    "    wr = csv.writer(f)\n",
    "    for i in range(len(list_amp)):\n",
    "        wr.writerow([i+1, str(i+1) +\"감성\", str(list_amp), str(list_ppi), True])\n",
    "    f.close()"
   ]
  },
  {
   "cell_type": "code",
   "execution_count": 15,
   "metadata": {},
   "outputs": [
    {
     "name": "stdout",
     "output_type": "stream",
     "text": [
      "5\n",
      "[0번째]\n",
      "\n",
      "amplitude: -66.23583819002988\n",
      "\n",
      "ppi : 5.7808783977022475\n",
      "\n",
      "[1번째]\n",
      "\n",
      "amplitude: -28.390532262971917\n",
      "\n",
      "ppi : 23.893980457680264\n",
      "\n",
      "[2번째]\n",
      "\n",
      "amplitude: -57.473823534892844\n",
      "\n",
      "ppi : -13.915367064237058\n",
      "\n",
      "[3번째]\n",
      "\n",
      "amplitude: -46.23093776795063\n",
      "\n",
      "ppi : 58.48783598761953\n",
      "\n"
     ]
    },
    {
     "data": {
      "image/png": "[encoded data removed]",
      "text/plain": [
       "<Figure size 432x288 with 1 Axes>"
      ]
     },
     "metadata": {
      "needs_background": "light"
     },
     "output_type": "display_data"
    }
   ],
   "source": [
    "#데이터 불러오기\n",
    "subject='knh'\n",
    "listOfData = select_subject(subject)\n",
    "\n",
    "# 레퍼런스 및 영상별 평균 amplitude, ppi 계산\n",
    "# 0=ref, 1=평온, 2=공포, 3=기쁨, 4=슬픔\n",
    "hrList=[0 for i in range(5)]\n",
    "hrpeaks=[[None] for row in range(5)]  # peak 인덱스\n",
    "amplitudes=[0 for i in range(5)]\n",
    "PPIs=[0 for i in range(5)]\n",
    "changeRates_amp=[0 for i in range(4)]\n",
    "changeRates_ppi=[0 for i in range(4)]\n",
    "\n",
    "print(len(listOfData))\n",
    "for i in range(5):\n",
    "    hrList[i] = hp.get_data(listOfData[i])\n",
    "    hrpeaks[i] = detect_peak(hrList[i])  \n",
    "    amplitudes[i]=calculate_Amplitude(hrList[i], hrpeaks[i])\n",
    "    PPIs[i]=calculate_PPI(hrpeaks[i])\n",
    "    \n",
    "\n",
    "# 영상별 레퍼런스 대비 변화율 계산\n",
    "for i in range(5):\n",
    "    # ref\n",
    "    if i==0:\n",
    "        ref_amplitude = amplitudes[i]\n",
    "        ref_PPI = PPIs[i]\n",
    "    else:\n",
    "        changeRates_amp[i-1]=calculate_ChangeRate(ref_amplitude, amplitudes[i])\n",
    "        changeRates_ppi[i-1]=calculate_ChangeRate(ref_PPI, PPIs[i])\n",
    "\n",
    "# 변화율 출력\n",
    "for i in range(len(changeRates_amp)):\n",
    "    print('[' + str(i) + '번째]\\n' )\n",
    "    print(\"amplitude: \"+ str(changeRates_amp[i]) + '\\n')\n",
    "    print(\"ppi : \"+ str(changeRates_ppi[i]) + '\\n')\n",
    "    \n",
    "# 변화율 csv 출력\n",
    "write_csv\n"
   ]
  },
  {
   "cell_type": "code",
   "execution_count": null,
   "metadata": {},
   "outputs": [],
   "source": []
  }
 ],
 "metadata": {
  "kernelspec": {
   "display_name": "Python 2",
   "language": "python",
   "name": "python2"
  },
  "language_info": {
   "codemirror_mode": {
    "name": "ipython",
    "version": 2
   },
   "file_extension": ".py",
   "mimetype": "text/x-python",
   "name": "python",
   "nbconvert_exporter": "python",
   "pygments_lexer": "ipython2",
   "version": "2.7.16"
  }
 },
 "nbformat": 4,
 "nbformat_minor": 2
}
